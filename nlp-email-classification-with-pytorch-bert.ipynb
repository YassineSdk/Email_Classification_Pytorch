{
 "cells": [
  {
   "cell_type": "markdown",
   "id": "72c66c07",
   "metadata": {
    "papermill": {
     "duration": 0.00616,
     "end_time": "2025-10-16T21:08:59.200860",
     "exception": false,
     "start_time": "2025-10-16T21:08:59.194700",
     "status": "completed"
    },
    "tags": []
   },
   "source": [
    "# **NLP-Email Classification (spam or ham) With Pytorch**"
   ]
  },
  {
   "cell_type": "markdown",
   "id": "d032e409",
   "metadata": {
    "papermill": {
     "duration": 0.004928,
     "end_time": "2025-10-16T21:08:59.211624",
     "exception": false,
     "start_time": "2025-10-16T21:08:59.206696",
     "status": "completed"
    },
    "tags": []
   },
   "source": [
    "**about the Project:<br>**\n",
    "in this project we are working on a classification technique,we will be building a model to classify emails to Spam or Ham ,to do so we will using a Technique called Transfer Learning - a process that consists on customizing BERT knowledge to perfom well on Domain-specific data  this saves time and computational effort compared to training a model from scratch .\n",
    "  so for this project we will use a classical machine learning model Logistic regression as our baseline model ,after that we will use a hugging face pre-trained model called **BERT** as our main model for the transfer learning.\n",
    "https://www.geeksforgeeks.org/nlp/transfer-learning-and-fine-tuning-in-nlp\n",
    "**Project workflow :<br>** \n",
    "1. Importing the packages and Libraries .\n",
    "2. Cleaning the data for the baseline model .\n",
    "3. training evaluating our baseline model .\n",
    "4. buiding torch classes for text processing .\n",
    "5. building the model architecture .\n",
    "6. building the model Training loop .\n",
    "7. testing and evaluating of the model."
   ]
  },
  {
   "cell_type": "code",
   "execution_count": 1,
   "id": "771c61a7",
   "metadata": {
    "execution": {
     "iopub.execute_input": "2025-10-16T21:08:59.224052Z",
     "iopub.status.busy": "2025-10-16T21:08:59.223336Z",
     "iopub.status.idle": "2025-10-16T21:09:35.611036Z",
     "shell.execute_reply": "2025-10-16T21:09:35.610140Z"
    },
    "papermill": {
     "duration": 36.399884,
     "end_time": "2025-10-16T21:09:35.616835",
     "exception": false,
     "start_time": "2025-10-16T21:08:59.216951",
     "status": "completed"
    },
    "tags": []
   },
   "outputs": [
    {
     "name": "stderr",
     "output_type": "stream",
     "text": [
      "2025-10-16 21:09:18.869616: E external/local_xla/xla/stream_executor/cuda/cuda_fft.cc:477] Unable to register cuFFT factory: Attempting to register factory for plugin cuFFT when one has already been registered\n",
      "WARNING: All log messages before absl::InitializeLog() is called are written to STDERR\n",
      "E0000 00:00:1760648959.085765      19 cuda_dnn.cc:8310] Unable to register cuDNN factory: Attempting to register factory for plugin cuDNN when one has already been registered\n",
      "E0000 00:00:1760648959.152288      19 cuda_blas.cc:1418] Unable to register cuBLAS factory: Attempting to register factory for plugin cuBLAS when one has already been registered\n",
      "[nltk_data] Downloading package stopwords to /usr/share/nltk_data...\n",
      "[nltk_data]   Package stopwords is already up-to-date!\n",
      "[nltk_data] Downloading package wordnet to /usr/share/nltk_data...\n",
      "[nltk_data]   Package wordnet is already up-to-date!\n"
     ]
    }
   ],
   "source": [
    "import pandas as pd\n",
    "import numpy as np \n",
    "import seaborn as sns \n",
    "import matplotlib.pyplot \n",
    "\n",
    "from transformers import BertTokenizer , BertForSequenceClassification\n",
    "import gradio \n",
    "import torch \n",
    "from torch.optim import AdamW\n",
    "from torch.utils.data import DataLoader , TensorDataset\n",
    "import torch.nn.functional as F\n",
    "\n",
    "from sklearn.model_selection import train_test_split\n",
    "from sklearn.linear_model import LogisticRegression\n",
    "from sklearn.metrics import accuracy_score,classification_report,confusion_matrix,f1_score\n",
    "from sklearn.feature_extraction.text import TfidfVectorizer\n",
    "from sklearn.preprocessing import LabelEncoder\n",
    "from sklearn.naive_bayes import MultinomialNB\n",
    "\n",
    "import nltk \n",
    "from nltk.corpus import stopwords\n",
    "from nltk.stem import WordNetLemmatizer\n",
    "nltk.download(\"stopwords\")\n",
    "nltk.download(\"wordnet\")\n",
    "\n",
    "import warnings\n",
    "warnings.filterwarnings('ignore')\n"
   ]
  },
  {
   "cell_type": "markdown",
   "id": "c80f6135",
   "metadata": {
    "papermill": {
     "duration": 0.004509,
     "end_time": "2025-10-16T21:09:35.626233",
     "exception": false,
     "start_time": "2025-10-16T21:09:35.621724",
     "status": "completed"
    },
    "tags": []
   },
   "source": [
    "## Reading the data"
   ]
  },
  {
   "cell_type": "code",
   "execution_count": 2,
   "id": "0f565949",
   "metadata": {
    "execution": {
     "iopub.execute_input": "2025-10-16T21:09:35.637215Z",
     "iopub.status.busy": "2025-10-16T21:09:35.636533Z",
     "iopub.status.idle": "2025-10-16T21:09:35.797368Z",
     "shell.execute_reply": "2025-10-16T21:09:35.796629Z"
    },
    "papermill": {
     "duration": 0.167872,
     "end_time": "2025-10-16T21:09:35.798846",
     "exception": false,
     "start_time": "2025-10-16T21:09:35.630974",
     "status": "completed"
    },
    "tags": []
   },
   "outputs": [
    {
     "data": {
      "text/html": [
       "<div>\n",
       "<style scoped>\n",
       "    .dataframe tbody tr th:only-of-type {\n",
       "        vertical-align: middle;\n",
       "    }\n",
       "\n",
       "    .dataframe tbody tr th {\n",
       "        vertical-align: top;\n",
       "    }\n",
       "\n",
       "    .dataframe thead th {\n",
       "        text-align: right;\n",
       "    }\n",
       "</style>\n",
       "<table border=\"1\" class=\"dataframe\">\n",
       "  <thead>\n",
       "    <tr style=\"text-align: right;\">\n",
       "      <th></th>\n",
       "      <th>Unnamed: 0</th>\n",
       "      <th>label</th>\n",
       "      <th>text</th>\n",
       "      <th>label_num</th>\n",
       "    </tr>\n",
       "  </thead>\n",
       "  <tbody>\n",
       "    <tr>\n",
       "      <th>0</th>\n",
       "      <td>605</td>\n",
       "      <td>ham</td>\n",
       "      <td>Subject: enron methanol ; meter # : 988291\\r\\n...</td>\n",
       "      <td>0</td>\n",
       "    </tr>\n",
       "    <tr>\n",
       "      <th>1</th>\n",
       "      <td>2349</td>\n",
       "      <td>ham</td>\n",
       "      <td>Subject: hpl nom for january 9 , 2001\\r\\n( see...</td>\n",
       "      <td>0</td>\n",
       "    </tr>\n",
       "    <tr>\n",
       "      <th>2</th>\n",
       "      <td>3624</td>\n",
       "      <td>ham</td>\n",
       "      <td>Subject: neon retreat\\r\\nho ho ho , we ' re ar...</td>\n",
       "      <td>0</td>\n",
       "    </tr>\n",
       "    <tr>\n",
       "      <th>3</th>\n",
       "      <td>4685</td>\n",
       "      <td>spam</td>\n",
       "      <td>Subject: photoshop , windows , office . cheap ...</td>\n",
       "      <td>1</td>\n",
       "    </tr>\n",
       "    <tr>\n",
       "      <th>4</th>\n",
       "      <td>2030</td>\n",
       "      <td>ham</td>\n",
       "      <td>Subject: re : indian springs\\r\\nthis deal is t...</td>\n",
       "      <td>0</td>\n",
       "    </tr>\n",
       "  </tbody>\n",
       "</table>\n",
       "</div>"
      ],
      "text/plain": [
       "   Unnamed: 0 label                                               text  \\\n",
       "0         605   ham  Subject: enron methanol ; meter # : 988291\\r\\n...   \n",
       "1        2349   ham  Subject: hpl nom for january 9 , 2001\\r\\n( see...   \n",
       "2        3624   ham  Subject: neon retreat\\r\\nho ho ho , we ' re ar...   \n",
       "3        4685  spam  Subject: photoshop , windows , office . cheap ...   \n",
       "4        2030   ham  Subject: re : indian springs\\r\\nthis deal is t...   \n",
       "\n",
       "   label_num  \n",
       "0          0  \n",
       "1          0  \n",
       "2          0  \n",
       "3          1  \n",
       "4          0  "
      ]
     },
     "execution_count": 2,
     "metadata": {},
     "output_type": "execute_result"
    }
   ],
   "source": [
    "data  = pd.read_csv(\"/kaggle/input/spam-mails-dataset/spam_ham_dataset.csv\")\n",
    "data.head()"
   ]
  },
  {
   "cell_type": "markdown",
   "id": "4ef89ed5",
   "metadata": {
    "papermill": {
     "duration": 0.005125,
     "end_time": "2025-10-16T21:09:35.809814",
     "exception": false,
     "start_time": "2025-10-16T21:09:35.804689",
     "status": "completed"
    },
    "tags": []
   },
   "source": [
    "## Exploring and Cleaning the data"
   ]
  },
  {
   "cell_type": "code",
   "execution_count": 3,
   "id": "ddaad17c",
   "metadata": {
    "execution": {
     "iopub.execute_input": "2025-10-16T21:09:35.821178Z",
     "iopub.status.busy": "2025-10-16T21:09:35.820517Z",
     "iopub.status.idle": "2025-10-16T21:09:36.070397Z",
     "shell.execute_reply": "2025-10-16T21:09:36.069632Z"
    },
    "papermill": {
     "duration": 0.257033,
     "end_time": "2025-10-16T21:09:36.071873",
     "exception": false,
     "start_time": "2025-10-16T21:09:35.814840",
     "status": "completed"
    },
    "tags": []
   },
   "outputs": [
    {
     "data": {
      "text/plain": [
       "<Axes: >"
      ]
     },
     "execution_count": 3,
     "metadata": {},
     "output_type": "execute_result"
    },
    {
     "data": {
      "image/png": "[encoded data removed]",
      "text/plain": [
       "<Figure size 640x480 with 1 Axes>"
      ]
     },
     "metadata": {},
     "output_type": "display_data"
    }
   ],
   "source": [
    "(data.isna().sum() / data.shape[0]).plot(kind='bar')"
   ]
  },
  {
   "cell_type": "markdown",
   "id": "622a53c6",
   "metadata": {
    "papermill": {
     "duration": 0.005641,
     "end_time": "2025-10-16T21:09:36.083381",
     "exception": false,
     "start_time": "2025-10-16T21:09:36.077740",
     "status": "completed"
    },
    "tags": []
   },
   "source": [
    "in this project we will only use two columns the raw_text and the label (target variable)"
   ]
  },
  {
   "cell_type": "code",
   "execution_count": 4,
   "id": "2ed9687d",
   "metadata": {
    "execution": {
     "iopub.execute_input": "2025-10-16T21:09:36.096011Z",
     "iopub.status.busy": "2025-10-16T21:09:36.095701Z",
     "iopub.status.idle": "2025-10-16T21:09:36.109852Z",
     "shell.execute_reply": "2025-10-16T21:09:36.109002Z"
    },
    "papermill": {
     "duration": 0.022168,
     "end_time": "2025-10-16T21:09:36.111263",
     "exception": false,
     "start_time": "2025-10-16T21:09:36.089095",
     "status": "completed"
    },
    "tags": []
   },
   "outputs": [
    {
     "data": {
      "text/html": [
       "<div>\n",
       "<style scoped>\n",
       "    .dataframe tbody tr th:only-of-type {\n",
       "        vertical-align: middle;\n",
       "    }\n",
       "\n",
       "    .dataframe tbody tr th {\n",
       "        vertical-align: top;\n",
       "    }\n",
       "\n",
       "    .dataframe thead th {\n",
       "        text-align: right;\n",
       "    }\n",
       "</style>\n",
       "<table border=\"1\" class=\"dataframe\">\n",
       "  <thead>\n",
       "    <tr style=\"text-align: right;\">\n",
       "      <th></th>\n",
       "      <th>text</th>\n",
       "      <th>label</th>\n",
       "    </tr>\n",
       "  </thead>\n",
       "  <tbody>\n",
       "    <tr>\n",
       "      <th>0</th>\n",
       "      <td>Subject: enron methanol ; meter # : 988291\\r\\n...</td>\n",
       "      <td>ham</td>\n",
       "    </tr>\n",
       "    <tr>\n",
       "      <th>1</th>\n",
       "      <td>Subject: hpl nom for january 9 , 2001\\r\\n( see...</td>\n",
       "      <td>ham</td>\n",
       "    </tr>\n",
       "    <tr>\n",
       "      <th>2</th>\n",
       "      <td>Subject: neon retreat\\r\\nho ho ho , we ' re ar...</td>\n",
       "      <td>ham</td>\n",
       "    </tr>\n",
       "    <tr>\n",
       "      <th>3</th>\n",
       "      <td>Subject: photoshop , windows , office . cheap ...</td>\n",
       "      <td>spam</td>\n",
       "    </tr>\n",
       "    <tr>\n",
       "      <th>4</th>\n",
       "      <td>Subject: re : indian springs\\r\\nthis deal is t...</td>\n",
       "      <td>ham</td>\n",
       "    </tr>\n",
       "  </tbody>\n",
       "</table>\n",
       "</div>"
      ],
      "text/plain": [
       "                                                text label\n",
       "0  Subject: enron methanol ; meter # : 988291\\r\\n...   ham\n",
       "1  Subject: hpl nom for january 9 , 2001\\r\\n( see...   ham\n",
       "2  Subject: neon retreat\\r\\nho ho ho , we ' re ar...   ham\n",
       "3  Subject: photoshop , windows , office . cheap ...  spam\n",
       "4  Subject: re : indian springs\\r\\nthis deal is t...   ham"
      ]
     },
     "execution_count": 4,
     "metadata": {},
     "output_type": "execute_result"
    }
   ],
   "source": [
    "df = data[['text','label']]\n",
    "df.head(5)"
   ]
  },
  {
   "cell_type": "code",
   "execution_count": 5,
   "id": "2cde1149",
   "metadata": {
    "execution": {
     "iopub.execute_input": "2025-10-16T21:09:36.124483Z",
     "iopub.status.busy": "2025-10-16T21:09:36.124064Z",
     "iopub.status.idle": "2025-10-16T21:09:36.130074Z",
     "shell.execute_reply": "2025-10-16T21:09:36.129185Z"
    },
    "papermill": {
     "duration": 0.01361,
     "end_time": "2025-10-16T21:09:36.131362",
     "exception": false,
     "start_time": "2025-10-16T21:09:36.117752",
     "status": "completed"
    },
    "tags": []
   },
   "outputs": [
    {
     "data": {
      "text/plain": [
       "text     object\n",
       "label    object\n",
       "dtype: object"
      ]
     },
     "execution_count": 5,
     "metadata": {},
     "output_type": "execute_result"
    }
   ],
   "source": [
    "df.dtypes"
   ]
  },
  {
   "cell_type": "code",
   "execution_count": 6,
   "id": "8c443e21",
   "metadata": {
    "execution": {
     "iopub.execute_input": "2025-10-16T21:09:36.144651Z",
     "iopub.status.busy": "2025-10-16T21:09:36.143880Z",
     "iopub.status.idle": "2025-10-16T21:09:36.149254Z",
     "shell.execute_reply": "2025-10-16T21:09:36.148114Z"
    },
    "papermill": {
     "duration": 0.012858,
     "end_time": "2025-10-16T21:09:36.150482",
     "exception": false,
     "start_time": "2025-10-16T21:09:36.137624",
     "status": "completed"
    },
    "tags": []
   },
   "outputs": [
    {
     "name": "stdout",
     "output_type": "stream",
     "text": [
      "Subject: hpl nom for january 9 , 2001\r\n",
      "( see attached file : hplnol 09 . xls )\r\n",
      "- hplnol 09 . xls\n",
      "--------------------------------------------------------------------------------\n",
      "Subject: important online banking alert\r\n",
      "dear valued citizensr bank member ,\r\n",
      "due to concerns , for the safety and integrity of the online banking community we have issued the following warning message .\r\n",
      "it has come to our attention that your citizensr bank account information needs to be updated as part of our continuing commitment to protect your account and to reduce the instance of fraud on our website . if you could please take 5 - 10 minutes out of your online experience and renew your records you will not run into any future problems with the online service . however , failure to confirm your records may result in your account suspension .\r\n",
      "once you have confirmed your account records your internet banking service will not be interrupted and will continue as normal .\r\n",
      "to confirm your bank account records please click here .\r\n",
      "note :\r\n",
      "this e - mail was sent on behalf of the online banking community , if you do not have an online banking account with charterr one then this message does not apply to you and you may ignore this message .\r\n",
      "thank you for your time ,\r\n",
      "citizensr financial group .\r\n",
      "\n",
      "--------------------------------------------------------------------------------\n",
      "Subject: important online banking alert\r\n",
      "dear valued citizensr bank member ,\r\n",
      "due to concerns , for the safety and integrity of the online banking community we have issued the following warning message .\r\n",
      "it has come to our attention that your citizensr bank account information needs to be updated as part of our continuing commitment to protect your account and to reduce the instance of fraud on our website . if you could please take 5 - 10 minutes out of your online experience and renew your records you will not run into any future problems with the online service . however , failure to confirm your records may result in your account suspension .\r\n",
      "once you have confirmed your account records your internet banking service will not be interrupted and will continue as normal .\r\n",
      "to confirm your bank account records please click here .\r\n",
      "note :\r\n",
      "this e - mail was sent on behalf of the online banking community , if you do not have an online banking account with charterr one then this message does not apply to you and you may ignore this message .\r\n",
      "thank you for your time ,\r\n",
      "citizensr financial group .\r\n",
      "\n",
      "--------------------------------------------------------------------------------\n",
      "Subject: hpl nom for january 9 , 2001\r\n",
      "( see attached file : hplnol 09 . xls )\r\n",
      "- hplnol 09 . xls\n",
      "--------------------------------------------------------------------------------\n",
      "Subject: hpl nom for january 9 , 2001\r\n",
      "( see attached file : hplnol 09 . xls )\r\n",
      "- hplnol 09 . xls\n",
      "--------------------------------------------------------------------------------\n",
      "Subject: hpl nom for january 9 , 2001\r\n",
      "( see attached file : hplnol 09 . xls )\r\n",
      "- hplnol 09 . xls\n",
      "--------------------------------------------------------------------------------\n",
      "Subject: important online banking alert\r\n",
      "dear valued citizensr bank member ,\r\n",
      "due to concerns , for the safety and integrity of the online banking community we have issued the following warning message .\r\n",
      "it has come to our attention that your citizensr bank account information needs to be updated as part of our continuing commitment to protect your account and to reduce the instance of fraud on our website . if you could please take 5 - 10 minutes out of your online experience and renew your records you will not run into any future problems with the online service . however , failure to confirm your records may result in your account suspension .\r\n",
      "once you have confirmed your account records your internet banking service will not be interrupted and will continue as normal .\r\n",
      "to confirm your bank account records please click here .\r\n",
      "note :\r\n",
      "this e - mail was sent on behalf of the online banking community , if you do not have an online banking account with charterr one then this message does not apply to you and you may ignore this message .\r\n",
      "thank you for your time ,\r\n",
      "citizensr financial group .\r\n",
      "\n",
      "--------------------------------------------------------------------------------\n"
     ]
    }
   ],
   "source": [
    "import random\n",
    "for i in range(1,8):\n",
    "    idx = random.choice([1,df.shape[0]-1])\n",
    "    print(df.iloc[idx,0])\n",
    "    print('--'*40)"
   ]
  },
  {
   "cell_type": "markdown",
   "id": "824c7305",
   "metadata": {
    "papermill": {
     "duration": 0.005866,
     "end_time": "2025-10-16T21:09:36.162247",
     "exception": false,
     "start_time": "2025-10-16T21:09:36.156381",
     "status": "completed"
    },
    "tags": []
   },
   "source": [
    "Contain at least one uppercase letter\n",
    "\n",
    "Contain at least one lowercase letter\n",
    "\n",
    "Contain at least one digit\n",
    "\n",
    "Contain at least one special character (@#$%^&*!_)\n",
    "\n",
    "Be at least 8 characters long"
   ]
  },
  {
   "cell_type": "code",
   "execution_count": 7,
   "id": "cb792d4a",
   "metadata": {
    "execution": {
     "iopub.execute_input": "2025-10-16T21:09:36.174500Z",
     "iopub.status.busy": "2025-10-16T21:09:36.174069Z",
     "iopub.status.idle": "2025-10-16T21:09:36.179203Z",
     "shell.execute_reply": "2025-10-16T21:09:36.178428Z"
    },
    "papermill": {
     "duration": 0.012387,
     "end_time": "2025-10-16T21:09:36.180332",
     "exception": false,
     "start_time": "2025-10-16T21:09:36.167945",
     "status": "completed"
    },
    "tags": []
   },
   "outputs": [
    {
     "name": "stdout",
     "output_type": "stream",
     "text": [
      "['jackjones@gmail.com']\n",
      "['https://notify.app/track/66025196-5183']\n",
      "['€916']\n"
     ]
    }
   ],
   "source": [
    "#testing\n",
    "text = \"Confirm your email jackjones@gmail.com to receive €916 right away: https://notify.app/track/66025196-5183\"\n",
    "import re \n",
    "pattern = r'([\\w\\.-]+@\\w+\\.\\w{1,3})'\n",
    "print(re.findall(pattern,text))\n",
    "pattern_2 = r'(https?://[^\\s]+)'\n",
    "print(re.findall(pattern_2,text))\n",
    "pattern_3 = r\"([\\$€]\\d+)\"\n",
    "print(re.findall(pattern_3,text))"
   ]
  },
  {
   "cell_type": "code",
   "execution_count": 8,
   "id": "2947ad83",
   "metadata": {
    "execution": {
     "iopub.execute_input": "2025-10-16T21:09:36.192672Z",
     "iopub.status.busy": "2025-10-16T21:09:36.192410Z",
     "iopub.status.idle": "2025-10-16T21:09:36.854423Z",
     "shell.execute_reply": "2025-10-16T21:09:36.853607Z"
    },
    "papermill": {
     "duration": 0.669755,
     "end_time": "2025-10-16T21:09:36.855946",
     "exception": false,
     "start_time": "2025-10-16T21:09:36.186191",
     "status": "completed"
    },
    "tags": []
   },
   "outputs": [],
   "source": [
    "def Clean_text(text):\n",
    "    text = re.sub(r'[\\w.-]+@\\w+\\.\\{1,3}',\" \",text)\n",
    "    text = re.sub(r'https?://[^\\s]+',\" \",text)\n",
    "    text = re.sub(r\"[\\W\\d]+\",\" \",text)\n",
    "    text = re.sub(r\"[\\$€]\\d+\",\" \",text).lower().strip()\n",
    "    return text\n",
    "\n",
    "df['text'] = df['text'].apply(lambda x :Clean_text(x) )\n"
   ]
  },
  {
   "cell_type": "code",
   "execution_count": 9,
   "id": "7bf1d50f",
   "metadata": {
    "execution": {
     "iopub.execute_input": "2025-10-16T21:09:36.868365Z",
     "iopub.status.busy": "2025-10-16T21:09:36.868127Z",
     "iopub.status.idle": "2025-10-16T21:09:36.872466Z",
     "shell.execute_reply": "2025-10-16T21:09:36.871605Z"
    },
    "papermill": {
     "duration": 0.011756,
     "end_time": "2025-10-16T21:09:36.873716",
     "exception": false,
     "start_time": "2025-10-16T21:09:36.861960",
     "status": "completed"
    },
    "tags": []
   },
   "outputs": [
    {
     "name": "stdout",
     "output_type": "stream",
     "text": [
      "------------------------------------------------------------\n",
      "subject hpl nom for january see attached file hplnol xls hplnol xls\n",
      "------------------------------------------------------------\n",
      "subject neon retreat ho ho ho we re around to that most wonderful time of the year neon leaders retreat time i know that this time of year is extremely hectic and that it s tough to think about anything past the holidays but life does go on past the week of december through january and that s what i d like you to think about for a minute on the calender that i handed out at the beginning of the fall semester the retreat was scheduled for the weekend of january but because of a youth ministers conference that brad and dustin are connected with that week we re going to change the date to the following weekend january now comes the part you need to think about i think we all agree that it s important for us to get together and have some time to recharge our batteries before we get to far into the spring semester but it can be a lot of trouble and difficult for us to get away without kids etc so brad came up with a potential alternative for how we can get together on that weekend and then you can let me know which you prefer the first option would be to have a retreat similar to what we ve done the past several years this year we could go to the heartland country inn www com outside of brenham it s a nice place where we d have a bedroom and a bedroom house side by side it s in the country real relaxing but also close to brenham and only about one hour and minutes from here we can golf shop in the antique and craft stores in brenham eat dinner together at the ranch and spend time with each other we d meet on saturday and then return on sunday morning just like what we ve done in the past the second option would be to stay here in houston have dinner together at a nice restaurant and then have dessert and a time for visiting and recharging at one of our homes on that saturday evening this might be easier but the trade off would be that we wouldn t have as much time together i ll let you decide email me back with what would be your preference and of course if you re available on that weekend the democratic process will prevail majority vote will rule let me hear from you as soon as possible preferably by the end of the weekend and if the vote doesn t go your way no complaining allowed like i tend to do have a great weekend great golf great fishing great shopping or whatever makes you happy bobby\n",
      "------------------------------------------------------------\n",
      "subject photoshop windows office cheap main trending abasements darer prudently fortuitous undergone lighthearted charm orinoco taster railroad affluent pornographic cuvier irvin parkhouse blameworthy chlorophyll robed diagrammatic fogarty clears bayda inconveniencing managing represented smartness hashish academies shareholders unload badness danielson pure caffein spaniard chargeable levin\n",
      "------------------------------------------------------------\n",
      "subject re indian springs this deal is to book the teco pvr revenue it is my understanding that teco just sends us a check i haven t received an answer as to whether there is a predermined price associated with this deal or if teco just lets us know what we are giving i can continue to chase this deal down if you need\n",
      "------------------------------------------------------------\n",
      "subject ehronline web address change this message is intended for ehronline users only due to a recent change to ehronline the url aka web address for accessing ehronline needs to be changed on your computer the change involves adding the letter s to the http reference in the url the url for accessing ehronline should be https ehronline enron com this change should be made by those who have added the url as a favorite on the browser\n",
      "------------------------------------------------------------\n",
      "subject spring savings certificate take off save when you use our customer appreciation spring savings certificate at foot locker lady foot locker kids foot locker and at our online stores welcome to our customer appreciation spring savings certificate use the special certificate below and receive off your purchases either in our stores or online hurry this day sale begins thursday march and ends sunday march share the savings today and e mail this offer to your friends many items already are reduced and the discount is taken off the lowest sale price click below to print your customer appreciation spring savings certificate you must present this coupon at any foot locker lady foot locker or kids foot locker store in the u s foot locker canada is not participating in this program ready set save our spring savings discount will automatically appear when you use the links below or type camlem into the promotion code box during checkout footlocker com certificate code camlem ladyfootlocker com certificate code camlem kidsfootlocker com certificate code camlem remember returns are hassle free simply bring your items to any of our stores nationwide or through the mail don t be left out register today to learn about our new products promotions events and other specials simply click below terms and conditions some exclusions apply please see manager for complete details certificate must be presented at the time of purchase and cannot be used in conjunction with any other discount offer or associate benefit not redeemable for cash applicable taxes must be paid by bearer cannot be applied to prior purchases or to gift card purchases void where prohibited licensed or regulated catalog exclusions apply valid thursday through sunday foot locker canada will not participate in this program if you do not wish to receive future emails please click below to unsubscribe\n",
      "------------------------------------------------------------\n",
      "subject looking for medication we re the best source it is difficult to make our material condition better by the best law but it is easy enough to ruin it by bad laws excuse me you just found the best and simpliest site for medication on the net no perscription easy delivery private secure and easy better see rightly on a pound a week than squint on a million we ve got anything that you will ever want erection treatment pills anti depressant pills weight loss and more http splicings bombahakcx com knowledge and human power are synonymous only high quality stuff for low rates moneyback guarantee there is no god nature sufficeth unto herself in no wise hath she need of an author\n"
     ]
    }
   ],
   "source": [
    "for i in range(1,8):\n",
    "    print('--'*30)\n",
    "    print(df.iloc[i,0])"
   ]
  },
  {
   "cell_type": "code",
   "execution_count": 10,
   "id": "20839209",
   "metadata": {
    "execution": {
     "iopub.execute_input": "2025-10-16T21:09:36.886040Z",
     "iopub.status.busy": "2025-10-16T21:09:36.885383Z",
     "iopub.status.idle": "2025-10-16T21:09:36.890714Z",
     "shell.execute_reply": "2025-10-16T21:09:36.889893Z"
    },
    "papermill": {
     "duration": 0.012512,
     "end_time": "2025-10-16T21:09:36.891797",
     "exception": false,
     "start_time": "2025-10-16T21:09:36.879285",
     "status": "completed"
    },
    "tags": []
   },
   "outputs": [
    {
     "name": "stdout",
     "output_type": "stream",
     "text": [
      "subject hpl nom for january see attached file hplnol xls hplnol xls\n",
      "--------------------------------------------------------------------------------\n",
      "subject important online banking alert dear valued citizensr bank member due to concerns for the safety and integrity of the online banking community we have issued the following warning message it has come to our attention that your citizensr bank account information needs to be updated as part of our continuing commitment to protect your account and to reduce the instance of fraud on our website if you could please take minutes out of your online experience and renew your records you will not run into any future problems with the online service however failure to confirm your records may result in your account suspension once you have confirmed your account records your internet banking service will not be interrupted and will continue as normal to confirm your bank account records please click here note this e mail was sent on behalf of the online banking community if you do not have an online banking account with charterr one then this message does not apply to you and you may ignore this message thank you for your time citizensr financial group\n",
      "--------------------------------------------------------------------------------\n",
      "subject important online banking alert dear valued citizensr bank member due to concerns for the safety and integrity of the online banking community we have issued the following warning message it has come to our attention that your citizensr bank account information needs to be updated as part of our continuing commitment to protect your account and to reduce the instance of fraud on our website if you could please take minutes out of your online experience and renew your records you will not run into any future problems with the online service however failure to confirm your records may result in your account suspension once you have confirmed your account records your internet banking service will not be interrupted and will continue as normal to confirm your bank account records please click here note this e mail was sent on behalf of the online banking community if you do not have an online banking account with charterr one then this message does not apply to you and you may ignore this message thank you for your time citizensr financial group\n",
      "--------------------------------------------------------------------------------\n",
      "subject important online banking alert dear valued citizensr bank member due to concerns for the safety and integrity of the online banking community we have issued the following warning message it has come to our attention that your citizensr bank account information needs to be updated as part of our continuing commitment to protect your account and to reduce the instance of fraud on our website if you could please take minutes out of your online experience and renew your records you will not run into any future problems with the online service however failure to confirm your records may result in your account suspension once you have confirmed your account records your internet banking service will not be interrupted and will continue as normal to confirm your bank account records please click here note this e mail was sent on behalf of the online banking community if you do not have an online banking account with charterr one then this message does not apply to you and you may ignore this message thank you for your time citizensr financial group\n",
      "--------------------------------------------------------------------------------\n",
      "subject hpl nom for january see attached file hplnol xls hplnol xls\n",
      "--------------------------------------------------------------------------------\n",
      "subject hpl nom for january see attached file hplnol xls hplnol xls\n",
      "--------------------------------------------------------------------------------\n",
      "subject important online banking alert dear valued citizensr bank member due to concerns for the safety and integrity of the online banking community we have issued the following warning message it has come to our attention that your citizensr bank account information needs to be updated as part of our continuing commitment to protect your account and to reduce the instance of fraud on our website if you could please take minutes out of your online experience and renew your records you will not run into any future problems with the online service however failure to confirm your records may result in your account suspension once you have confirmed your account records your internet banking service will not be interrupted and will continue as normal to confirm your bank account records please click here note this e mail was sent on behalf of the online banking community if you do not have an online banking account with charterr one then this message does not apply to you and you may ignore this message thank you for your time citizensr financial group\n",
      "--------------------------------------------------------------------------------\n"
     ]
    }
   ],
   "source": [
    "import random\n",
    "for i in range(1,8):\n",
    "    idx = random.choice([1,df.shape[0]-1])\n",
    "    print(df.iloc[idx,0])\n",
    "    print('--'*40)"
   ]
  },
  {
   "cell_type": "code",
   "execution_count": 11,
   "id": "fb646b7c",
   "metadata": {
    "execution": {
     "iopub.execute_input": "2025-10-16T21:09:36.904042Z",
     "iopub.status.busy": "2025-10-16T21:09:36.903833Z",
     "iopub.status.idle": "2025-10-16T21:09:36.923691Z",
     "shell.execute_reply": "2025-10-16T21:09:36.923039Z"
    },
    "papermill": {
     "duration": 0.027352,
     "end_time": "2025-10-16T21:09:36.924872",
     "exception": false,
     "start_time": "2025-10-16T21:09:36.897520",
     "status": "completed"
    },
    "tags": []
   },
   "outputs": [],
   "source": [
    "df['text'] = df['text'].str.replace(\"subject\",\"\") \n",
    "df['text'] = df['text'].str.replace(\"_\",\"\")"
   ]
  },
  {
   "cell_type": "code",
   "execution_count": 12,
   "id": "3726bdd3",
   "metadata": {
    "execution": {
     "iopub.execute_input": "2025-10-16T21:09:36.937160Z",
     "iopub.status.busy": "2025-10-16T21:09:36.936959Z",
     "iopub.status.idle": "2025-10-16T21:09:37.020673Z",
     "shell.execute_reply": "2025-10-16T21:09:37.020014Z"
    },
    "papermill": {
     "duration": 0.091346,
     "end_time": "2025-10-16T21:09:37.022085",
     "exception": false,
     "start_time": "2025-10-16T21:09:36.930739",
     "status": "completed"
    },
    "tags": []
   },
   "outputs": [],
   "source": [
    "df['word_count'] = df['text'].str.split().str.len()"
   ]
  },
  {
   "cell_type": "code",
   "execution_count": 13,
   "id": "d50bdeb3",
   "metadata": {
    "execution": {
     "iopub.execute_input": "2025-10-16T21:09:37.036245Z",
     "iopub.status.busy": "2025-10-16T21:09:37.035720Z",
     "iopub.status.idle": "2025-10-16T21:09:37.405205Z",
     "shell.execute_reply": "2025-10-16T21:09:37.404396Z"
    },
    "papermill": {
     "duration": 0.377465,
     "end_time": "2025-10-16T21:09:37.406444",
     "exception": false,
     "start_time": "2025-10-16T21:09:37.028979",
     "status": "completed"
    },
    "tags": []
   },
   "outputs": [
    {
     "data": {
      "text/plain": [
       "Text(0.5, 1.0, 'number of words in emails')"
      ]
     },
     "execution_count": 13,
     "metadata": {},
     "output_type": "execute_result"
    },
    {
     "data": {
      "image/png": "[encoded data removed]",
      "text/plain": [
       "<Figure size 640x480 with 1 Axes>"
      ]
     },
     "metadata": {},
     "output_type": "display_data"
    }
   ],
   "source": [
    "import matplotlib.pyplot as plt\n",
    "sns.histplot(x=df['word_count'],hue=df['label'],palette='mako',binrange=[0,np.percentile(df['word_count'],95)],alpha=0.6)\n",
    "plt.xlim(0)\n",
    "plt.xlabel(\"Number of words\")\n",
    "plt.title('number of words in emails')"
   ]
  },
  {
   "cell_type": "markdown",
   "id": "3e87bd02",
   "metadata": {
    "papermill": {
     "duration": 0.006169,
     "end_time": "2025-10-16T21:09:37.419447",
     "exception": false,
     "start_time": "2025-10-16T21:09:37.413278",
     "status": "completed"
    },
    "tags": []
   },
   "source": [
    "#### **<br>Observation:<br>**\n",
    "the plot above shows the distribution of the number of word of emails , the plot is devide to :\n",
    "* Ham  : Legit emails<br>\n",
    "* Spam : Fake emails<br>\n",
    "from the plot we can see that the distribution of the number of words per email is right skewed this suggests that most of the emails have less than 100 word and less often to recieve an email with 400 or 500 word .\n"
   ]
  },
  {
   "cell_type": "code",
   "execution_count": 14,
   "id": "502cbd08",
   "metadata": {
    "execution": {
     "iopub.execute_input": "2025-10-16T21:09:37.433483Z",
     "iopub.status.busy": "2025-10-16T21:09:37.433051Z",
     "iopub.status.idle": "2025-10-16T21:09:37.607524Z",
     "shell.execute_reply": "2025-10-16T21:09:37.606860Z"
    },
    "papermill": {
     "duration": 0.183135,
     "end_time": "2025-10-16T21:09:37.609059",
     "exception": false,
     "start_time": "2025-10-16T21:09:37.425924",
     "status": "completed"
    },
    "tags": []
   },
   "outputs": [],
   "source": [
    "# let's check the most frequente words \n",
    "from collections import Counter\n",
    "spam_words = \" \".join(df[df['label']==\"spam\"][\"text\"])\n",
    "# seting stop words \n",
    "stop_words = set(stopwords.words(\"english\"))\n",
    "spam_words = [word for word in spam_words.split() if word not in stop_words ]\n",
    "spam_word_freq = Counter(spam_words)\n",
    "\n",
    "ham_words = \" \".join(df[df['label']==\"ham\"][\"text\"])\n",
    "# seting stop words \n",
    "stop_words = set(stopwords.words(\"english\"))\n",
    "ham_words = [word for word in ham_words.split() if word not in stop_words ]\n",
    "ham_word_freq = Counter(ham_words)"
   ]
  },
  {
   "cell_type": "code",
   "execution_count": 15,
   "id": "7ef61ea2",
   "metadata": {
    "execution": {
     "iopub.execute_input": "2025-10-16T21:09:37.623223Z",
     "iopub.status.busy": "2025-10-16T21:09:37.622727Z",
     "iopub.status.idle": "2025-10-16T21:09:37.631861Z",
     "shell.execute_reply": "2025-10-16T21:09:37.631114Z"
    },
    "papermill": {
     "duration": 0.017148,
     "end_time": "2025-10-16T21:09:37.633047",
     "exception": false,
     "start_time": "2025-10-16T21:09:37.615899",
     "status": "completed"
    },
    "tags": []
   },
   "outputs": [
    {
     "data": {
      "text/plain": [
       "[('com', 992),\n",
       " ('http', 983),\n",
       " ('company', 728),\n",
       " ('e', 638),\n",
       " ('www', 587),\n",
       " ('information', 520),\n",
       " ('font', 515),\n",
       " ('td', 504),\n",
       " ('get', 485),\n",
       " ('please', 483),\n",
       " ('statements', 476),\n",
       " ('email', 474),\n",
       " ('price', 471),\n",
       " ('us', 469),\n",
       " ('new', 432),\n",
       " ('may', 421),\n",
       " ('nbsp', 418),\n",
       " ('one', 392),\n",
       " ('p', 391),\n",
       " ('height', 362)]"
      ]
     },
     "execution_count": 15,
     "metadata": {},
     "output_type": "execute_result"
    }
   ],
   "source": [
    "spam_word_freq.most_common(20)"
   ]
  },
  {
   "cell_type": "code",
   "execution_count": 16,
   "id": "d6dcef80",
   "metadata": {
    "execution": {
     "iopub.execute_input": "2025-10-16T21:09:37.646260Z",
     "iopub.status.busy": "2025-10-16T21:09:37.646060Z",
     "iopub.status.idle": "2025-10-16T21:09:37.652874Z",
     "shell.execute_reply": "2025-10-16T21:09:37.652209Z"
    },
    "papermill": {
     "duration": 0.014731,
     "end_time": "2025-10-16T21:09:37.654025",
     "exception": false,
     "start_time": "2025-10-16T21:09:37.639294",
     "status": "completed"
    },
    "tags": []
   },
   "outputs": [
    {
     "data": {
      "text/plain": [
       "[('ect', 13897),\n",
       " ('hou', 7281),\n",
       " ('enron', 6555),\n",
       " ('gas', 2861),\n",
       " ('deal', 2789),\n",
       " ('com', 2717),\n",
       " ('please', 2715),\n",
       " ('meter', 2459),\n",
       " ('cc', 2359),\n",
       " ('pm', 2325),\n",
       " ('hpl', 2318),\n",
       " ('daren', 1901),\n",
       " ('thanks', 1813),\n",
       " ('corp', 1710),\n",
       " ('know', 1438),\n",
       " ('mmbtu', 1349),\n",
       " ('e', 1338),\n",
       " ('j', 1300),\n",
       " ('forwarded', 1296),\n",
       " ('need', 1257)]"
      ]
     },
     "execution_count": 16,
     "metadata": {},
     "output_type": "execute_result"
    }
   ],
   "source": [
    "ham_word_freq.most_common(20)"
   ]
  },
  {
   "cell_type": "code",
   "execution_count": 17,
   "id": "65cd3a1b",
   "metadata": {
    "execution": {
     "iopub.execute_input": "2025-10-16T21:09:37.667168Z",
     "iopub.status.busy": "2025-10-16T21:09:37.666965Z",
     "iopub.status.idle": "2025-10-16T21:09:37.765748Z",
     "shell.execute_reply": "2025-10-16T21:09:37.764924Z"
    },
    "papermill": {
     "duration": 0.10681,
     "end_time": "2025-10-16T21:09:37.767152",
     "exception": false,
     "start_time": "2025-10-16T21:09:37.660342",
     "status": "completed"
    },
    "tags": []
   },
   "outputs": [
    {
     "data": {
      "text/plain": [
       "[[Text(0, 0, '0.710'), Text(0, 0, '0.290')]]"
      ]
     },
     "execution_count": 17,
     "metadata": {},
     "output_type": "execute_result"
    },
    {
     "data": {
      "image/png": "[encoded data removed]",
      "text/plain": [
       "<Figure size 640x480 with 1 Axes>"
      ]
     },
     "metadata": {},
     "output_type": "display_data"
    }
   ],
   "source": [
    "ax = (df['label'].value_counts()/df.shape[0]).plot(kind='bar',color=['lightgreen','lightblue'])\n",
    "ax.set_yticks([])\n",
    "[plt.bar_label(c,fmt='%.3f') for c in ax.containers]"
   ]
  },
  {
   "cell_type": "markdown",
   "id": "5e192b49",
   "metadata": {
    "papermill": {
     "duration": 0.007166,
     "end_time": "2025-10-16T21:09:37.782220",
     "exception": false,
     "start_time": "2025-10-16T21:09:37.775054",
     "status": "completed"
    },
    "tags": []
   },
   "source": [
    "the plot above represents the distribution of our target feature (spam or ham) so we can see that emails that are classified as Ham represent\n",
    "3672 cases which is 70% of our data while Spam cases only covers ~ 30% . so basicly our data is umbalanced so our startegy will be the following :\n",
    "* training the models with the default data no (oversampling or undersampling) and evaluating the performance of the model.\n",
    "  if the model is doing having low performance metrics we will add a preprocessing layer for the data balancing\n",
    "  else we will stick with the data "
   ]
  },
  {
   "cell_type": "markdown",
   "id": "02e0a654",
   "metadata": {
    "papermill": {
     "duration": 0.006312,
     "end_time": "2025-10-16T21:09:37.795124",
     "exception": false,
     "start_time": "2025-10-16T21:09:37.788812",
     "status": "completed"
    },
    "tags": []
   },
   "source": [
    "## Data Processing class"
   ]
  },
  {
   "cell_type": "code",
   "execution_count": 18,
   "id": "43dc8cc6",
   "metadata": {
    "execution": {
     "iopub.execute_input": "2025-10-16T21:09:37.809369Z",
     "iopub.status.busy": "2025-10-16T21:09:37.808953Z",
     "iopub.status.idle": "2025-10-16T21:09:39.438641Z",
     "shell.execute_reply": "2025-10-16T21:09:39.437788Z"
    },
    "papermill": {
     "duration": 1.638567,
     "end_time": "2025-10-16T21:09:39.440148",
     "exception": false,
     "start_time": "2025-10-16T21:09:37.801581",
     "status": "completed"
    },
    "tags": []
   },
   "outputs": [],
   "source": [
    "class text_preprocessing():\n",
    "    def __init__(self,df:pd.DataFrame):\n",
    "        self.df = df\n",
    "        self.Vectorizer = TfidfVectorizer(max_features=5000, ngram_range=(1,2))\n",
    "        self.Encoder = LabelEncoder()\n",
    "        \n",
    "    def splitting_data(self):\n",
    "        \"\"\"\n",
    "        Splitting the data into X(independent features) and y (target feature)\n",
    "        \"\"\"\n",
    "        self.X = self.df.iloc[:,0]\n",
    "        self.y = self.df.iloc[:,1]\n",
    "        return self.X,self.y\n",
    "        \n",
    "    def encoding(self):\n",
    "        \"\"\"\n",
    "        encoding the target Variable\n",
    "        \"\"\"\n",
    "        self.y = self.Encoder.fit_transform(self.y)\n",
    "        return self.y\n",
    "        \n",
    "    def test_train(self):\n",
    "        \"\"\"\n",
    "        Splitting the data into train and test subsets\n",
    "        \"\"\"\n",
    "        self.X_train,self.X_test,self.y_train,self.y_test = train_test_split(self.X,self.y,test_size=.3,stratify=self.y,random_state=42)\n",
    "        return self.X_train,self.X_test,self.y_train,self.y_test\n",
    "        \n",
    "    def Vectorization(self):\n",
    "        \"\"\"\n",
    "        Transforming the text data into numerical representation using the TF-IDF matrix\n",
    "        \"\"\"\n",
    "        self.X_train_vect = self.Vectorizer.fit_transform(self.X_train)\n",
    "        self.X_test_vect = self.Vectorizer.transform(self.X_test)\n",
    "        return self.X_train_vect,self.X_test_vect\n",
    "    \n",
    "    def operation(self):\n",
    "        \"\"\"\n",
    "        the workdlow of the operations \n",
    "        \"\"\"\n",
    "        self.splitting_data()\n",
    "        self.encoding()\n",
    "        self.test_train()\n",
    "        X_train , X_test = self.Vectorization()\n",
    "        return X_train , X_test ,self.y_train,self.y_test\n",
    "        \n",
    "\n",
    "preprocessing = text_preprocessing(df)\n",
    "X_train , X_test , y_train , y_test = preprocessing.operation()"
   ]
  },
  {
   "cell_type": "code",
   "execution_count": 19,
   "id": "29d39f95",
   "metadata": {
    "execution": {
     "iopub.execute_input": "2025-10-16T21:09:39.455205Z",
     "iopub.status.busy": "2025-10-16T21:09:39.454536Z",
     "iopub.status.idle": "2025-10-16T21:09:39.459198Z",
     "shell.execute_reply": "2025-10-16T21:09:39.458429Z"
    },
    "papermill": {
     "duration": 0.01297,
     "end_time": "2025-10-16T21:09:39.460276",
     "exception": false,
     "start_time": "2025-10-16T21:09:39.447306",
     "status": "completed"
    },
    "tags": []
   },
   "outputs": [
    {
     "name": "stdout",
     "output_type": "stream",
     "text": [
      "x_train : 3619\n",
      "y_train : 3619\n",
      "x_test : 1552\n",
      "y_test : 1552\n"
     ]
    }
   ],
   "source": [
    "print(\"x_train :\",X_train.shape[0])\n",
    "print(\"y_train :\",y_train.shape[0])\n",
    "print(\"x_test :\",X_test.shape[0])\n",
    "print(\"y_test :\",y_test.shape[0])"
   ]
  },
  {
   "cell_type": "markdown",
   "id": "599676b8",
   "metadata": {
    "papermill": {
     "duration": 0.006472,
     "end_time": "2025-10-16T21:09:39.473600",
     "exception": false,
     "start_time": "2025-10-16T21:09:39.467128",
     "status": "completed"
    },
    "tags": []
   },
   "source": [
    "## Buiding our two baseline models"
   ]
  },
  {
   "cell_type": "code",
   "execution_count": 20,
   "id": "32ec64b4",
   "metadata": {
    "execution": {
     "iopub.execute_input": "2025-10-16T21:09:39.487754Z",
     "iopub.status.busy": "2025-10-16T21:09:39.487520Z",
     "iopub.status.idle": "2025-10-16T21:09:39.490871Z",
     "shell.execute_reply": "2025-10-16T21:09:39.490214Z"
    },
    "papermill": {
     "duration": 0.011799,
     "end_time": "2025-10-16T21:09:39.491915",
     "exception": false,
     "start_time": "2025-10-16T21:09:39.480116",
     "status": "completed"
    },
    "tags": []
   },
   "outputs": [],
   "source": [
    "from sklearn.model_selection import cross_val_score"
   ]
  },
  {
   "cell_type": "code",
   "execution_count": 21,
   "id": "1ca252ef",
   "metadata": {
    "execution": {
     "iopub.execute_input": "2025-10-16T21:09:39.505863Z",
     "iopub.status.busy": "2025-10-16T21:09:39.505642Z",
     "iopub.status.idle": "2025-10-16T21:09:39.711659Z",
     "shell.execute_reply": "2025-10-16T21:09:39.710825Z"
    },
    "papermill": {
     "duration": 0.214505,
     "end_time": "2025-10-16T21:09:39.713039",
     "exception": false,
     "start_time": "2025-10-16T21:09:39.498534",
     "status": "completed"
    },
    "tags": []
   },
   "outputs": [
    {
     "name": "stdout",
     "output_type": "stream",
     "text": [
      "              precision    recall  f1-score   support\n",
      "\n",
      "           0       0.98      0.93      0.95      1102\n",
      "           1       0.85      0.95      0.90       450\n",
      "\n",
      "    accuracy                           0.94      1552\n",
      "   macro avg       0.91      0.94      0.93      1552\n",
      "weighted avg       0.94      0.94      0.94      1552\n",
      "\n"
     ]
    },
    {
     "data": {
      "text/plain": [
       "Text(0.5, 23.52222222222222, 'predicted data')"
      ]
     },
     "execution_count": 21,
     "metadata": {},
     "output_type": "execute_result"
    },
    {
     "data": {
      "image/png": "[encoded data removed]",
      "text/plain": [
       "<Figure size 640x480 with 2 Axes>"
      ]
     },
     "metadata": {},
     "output_type": "display_data"
    }
   ],
   "source": [
    "base_model = MultinomialNB()\n",
    "base_model.fit(X_train,y_train)\n",
    "y_hat = base_model.predict(X_test)\n",
    "\n",
    "\n",
    "acc = accuracy_score(y_test,y_hat)\n",
    "class_report = classification_report(y_test,y_hat)\n",
    "print(class_report)\n",
    "sns.heatmap(confusion_matrix(y_test,y_hat),annot=True,fmt=\"d\",\n",
    "           xticklabels=['Predicted: 0 (Negative)', 'Predicted: 1 (Positive)'],\n",
    "    yticklabels=['Actual: 0 (Negative)', 'Actual: 1 (Positive)'])\n",
    "plt.ylabel(\"actual data\")\n",
    "plt.xlabel(\"predicted data\")"
   ]
  },
  {
   "cell_type": "code",
   "execution_count": 22,
   "id": "b67265e0",
   "metadata": {
    "execution": {
     "iopub.execute_input": "2025-10-16T21:09:39.730451Z",
     "iopub.status.busy": "2025-10-16T21:09:39.730178Z",
     "iopub.status.idle": "2025-10-16T21:09:40.144209Z",
     "shell.execute_reply": "2025-10-16T21:09:40.143279Z"
    },
    "papermill": {
     "duration": 0.42392,
     "end_time": "2025-10-16T21:09:40.145705",
     "exception": false,
     "start_time": "2025-10-16T21:09:39.721785",
     "status": "completed"
    },
    "tags": []
   },
   "outputs": [
    {
     "name": "stdout",
     "output_type": "stream",
     "text": [
      "              precision    recall  f1-score   support\n",
      "\n",
      "           0       0.98      0.98      0.98      1102\n",
      "           1       0.96      0.95      0.96       450\n",
      "\n",
      "    accuracy                           0.97      1552\n",
      "   macro avg       0.97      0.97      0.97      1552\n",
      "weighted avg       0.97      0.97      0.97      1552\n",
      "\n"
     ]
    },
    {
     "data": {
      "text/plain": [
       "Text(0.5, 23.52222222222222, 'predicted data')"
      ]
     },
     "execution_count": 22,
     "metadata": {},
     "output_type": "execute_result"
    },
    {
     "data": {
      "image/png": "[encoded data removed]",
      "text/plain": [
       "<Figure size 640x480 with 2 Axes>"
      ]
     },
     "metadata": {},
     "output_type": "display_data"
    }
   ],
   "source": [
    "base_model_1 = LogisticRegression()\n",
    "base_model_1.fit(X_train,y_train)\n",
    "y_hat = base_model_1.predict(X_test)\n",
    "\n",
    "acc = accuracy_score(y_test,y_hat)\n",
    "class_report = classification_report(y_test,y_hat)\n",
    "print(class_report)\n",
    "sns.heatmap(confusion_matrix(y_test,y_hat),annot=True,fmt=\"d\")\n",
    "plt.ylabel(\"actual data\")\n",
    "plt.xlabel(\"predicted data\")"
   ]
  },
  {
   "cell_type": "code",
   "execution_count": 23,
   "id": "2fe3ed68",
   "metadata": {
    "execution": {
     "iopub.execute_input": "2025-10-16T21:09:40.162657Z",
     "iopub.status.busy": "2025-10-16T21:09:40.162385Z",
     "iopub.status.idle": "2025-10-16T21:09:41.016160Z",
     "shell.execute_reply": "2025-10-16T21:09:41.014294Z"
    },
    "papermill": {
     "duration": 0.863823,
     "end_time": "2025-10-16T21:09:41.018312",
     "exception": false,
     "start_time": "2025-10-16T21:09:40.154489",
     "status": "completed"
    },
    "tags": []
   },
   "outputs": [
    {
     "name": "stdout",
     "output_type": "stream",
     "text": [
      "the Logistic regression f1 score : 0.948\n",
      "the Naive bayes f1 score : 0.914\n"
     ]
    }
   ],
   "source": [
    "LG_score = cross_val_score(base_model_1,X_train,y_train,cv=5,scoring=\"f1\")\n",
    "NB_score = cross_val_score(base_model,X_train,y_train,cv=5,scoring=\"f1\")\n",
    "print(\"the Logistic regression f1 score :\",round(LG_score.mean(),3) )\n",
    "print(\"the Naive bayes f1 score :\",round(NB_score.mean(),3) )\n"
   ]
  },
  {
   "cell_type": "markdown",
   "id": "3a6529ae",
   "metadata": {
    "papermill": {
     "duration": 0.014312,
     "end_time": "2025-10-16T21:09:41.048017",
     "exception": false,
     "start_time": "2025-10-16T21:09:41.033705",
     "status": "completed"
    },
    "tags": []
   },
   "source": [
    "**<br>Accuracy:<br>**\n",
    "Accuracy is a general metric used to evaluate the overall performance of a model. It represents the proportion of correctly classified instances among all observations.\n",
    "In our experiment, both models achieved high accuracy scores (above 90%). However, the Logistic Regression model outperformed the Naive Bayes model by approximately 7%, indicating a better overall classification capability.\n",
    "\n",
    "**<br>Precision:<br>**\n",
    "Precision measures the model’s ability to correctly identify true positives among all predicted positives. In other words, it shows how “trustworthy” a positive prediction is.\n",
    "In our experiment, the Logistic Regression model once again outperformed the Naive Bayes model, achieving a precision score of 96%, compared to 85% for Naive Bayes. This means the Logistic model makes fewer false alarms (false positives).\n",
    "\n",
    "**<br>Recall:<br>**\n",
    "Recall (or sensitivity) measures how many actual positives the model was able to correctly identify. It is especially important in scenarios where false negatives are costly (e.g., detecting diseases, fraud, or spam).\n",
    "In our case, the Logistic Regression model also slightly outperformed the Naive Bayes model, with a difference of less than 6%, demonstrating stronger capability in capturing true positives."
   ]
  },
  {
   "cell_type": "markdown",
   "id": "5fdfb3b2",
   "metadata": {
    "papermill": {
     "duration": 0.013877,
     "end_time": "2025-10-16T21:09:41.076128",
     "exception": false,
     "start_time": "2025-10-16T21:09:41.062251",
     "status": "completed"
    },
    "tags": []
   },
   "source": [
    "## Email classification with BIRT using the transfor learning technique"
   ]
  },
  {
   "cell_type": "markdown",
   "id": "f0e2c93a",
   "metadata": {
    "papermill": {
     "duration": 0.00794,
     "end_time": "2025-10-16T21:09:41.093456",
     "exception": false,
     "start_time": "2025-10-16T21:09:41.085516",
     "status": "completed"
    },
    "tags": []
   },
   "source": [
    "**BERT and Transfer Learning:**<br>\n",
    "BERT (Bidirectional Encoder Representations from Transformers) is a revolutionary NLP model developed by Google that leverages the power of transfer learning. Instead of training a language model from scratch for each specific task, BERT is first pre-trained on massive text corpora like Wikipedia using two unsupervised objectives — Masked Language Modeling (MLM) and Next Sentence Prediction (NSP). This pre-training allows BERT to learn deep contextual relationships between words. Then, through fine-tuning, we adapt the pre-trained model to a downstream task (such as sentiment analysis, text classification, or named entity recognition) using a much smaller labeled dataset. This approach drastically reduces computational cost and improves performance, as the model already “understands” language structure. In short, BERT and transfer learning brought a paradigm shift in NLP — from building task-specific models to reusing and refining a single, deeply trained language model.\n",
    "\n"
   ]
  },
  {
   "cell_type": "markdown",
   "id": "7dd98491",
   "metadata": {
    "papermill": {
     "duration": 0.008186,
     "end_time": "2025-10-16T21:09:41.109529",
     "exception": false,
     "start_time": "2025-10-16T21:09:41.101343",
     "status": "completed"
    },
    "tags": []
   },
   "source": [
    "## Loading the Pre-Trained BERT Model and Tokenizer"
   ]
  }
 ],
 "metadata": {
  "kaggle": {
   "accelerator": "nvidiaTeslaT4",
   "dataSources": [
    {
     "datasetId": 109196,
     "sourceId": 260807,
     "sourceType": "datasetVersion"
    },
    {
     "datasetId": 8357770,
     "sourceId": 13188530,
     "sourceType": "datasetVersion"
    }
   ],
   "dockerImageVersionId": 31153,
   "isGpuEnabled": true,
   "isInternetEnabled": true,
   "language": "python",
   "sourceType": "notebook"
  },
  "kernelspec": {
   "display_name": "Python 3",
   "language": "python",
   "name": "python3"
  },
  "language_info": {
   "codemirror_mode": {
    "name": "ipython",
    "version": 3
   },
   "file_extension": ".py",
   "mimetype": "text/x-python",
   "name": "python",
   "nbconvert_exporter": "python",
   "pygments_lexer": "ipython3",
   "version": "3.11.13"
  },
  "papermill": {
   "default_parameters": {},
   "duration": 49.120727,
   "end_time": "2025-10-16T21:09:44.165916",
   "environment_variables": {},
   "exception": null,
   "input_path": "__notebook__.ipynb",
   "output_path": "__notebook__.ipynb",
   "parameters": {},
   "start_time": "2025-10-16T21:08:55.045189",
   "version": "2.6.0"
  }
 },
 "nbformat": 4,
 "nbformat_minor": 5
}
